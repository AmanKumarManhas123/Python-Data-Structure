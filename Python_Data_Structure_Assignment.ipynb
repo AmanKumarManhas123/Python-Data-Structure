{
  "nbformat": 4,
  "nbformat_minor": 0,
  "metadata": {
    "colab": {
      "provenance": []
    },
    "kernelspec": {
      "name": "python3",
      "display_name": "Python 3"
    },
    "language_info": {
      "name": "python"
    }
  },
  "cells": [
    {
      "cell_type": "markdown",
      "source": [
        "Python Data Structures Assignment"
      ],
      "metadata": {
        "id": "_3T-PxUSeFwF"
      }
    },
    {
      "cell_type": "markdown",
      "source": [
        "1.  What are data structures, and why are they important?\n",
        "- Data structures are ways of organizing and storing data so that we can access and use it efficiently.\n",
        "- Example: A list is a data structure in Python that lets us store multiple items.\n",
        "- Important: Helps in fast data access, better memory use, and easier manipulation.\n",
        "\n",
        "\n",
        "2.  Explain the difference between mutable and immutable data types with examples.\n",
        "- Mutable: Can be changed after creation (e.g., list).\n",
        "\n",
        "- Immutable: Cannot be changed after creation (e.g., string, tuple).\n",
        "- Example:\n",
        "- my_list = [1, 2, 3]\n",
        "  my_list.append(4)  # Changed (Mutable)\n",
        "- my_str = \"hello\"\n",
        "  my_str[0] = 'H'  #  not changed (Immutable) 'str' object does not support item assignment\n",
        "\n",
        "\n",
        "3.  What are the main differences between lists and tuples in Python?\n",
        "- List: Mutable, can be changed after creation, uses square brackets [].\n",
        "- Tuple: Immutable, cannot be changed after creation, uses parentheses ().\n",
        "- Example:\n",
        "- my_list = [1, 2, 3]\n",
        "- my_tuple = (1, 2, 3)\n",
        "\n",
        "\n",
        "4.  Describe how dictionaries store data.\n",
        "- Dictionaries store data in key-value pairs. Keys are unique and used to access the values.Each key points to a value, and they are written inside curly braces {}.\n",
        "- Example:\n",
        "- person = {\"name\": \"Aman\", \"age\": 24}\n",
        "\n",
        "\n",
        "5.  Why might you use a set instead of a list in Python?\n",
        "- Sets automatically remove duplicates.\n",
        "- Sets are faster for checking existence (in keyword) because\n",
        "- List uses linear search → checks one by one. (Slower as list grows)\n",
        "- Set uses hashing → jumps directly to the item. (Very fast!)\n",
        "- Example:\n",
        "- my_set = {1, 2, 3, 2}  # Becomes {1, 2, 3}\n",
        "\n",
        "\n",
        "6.  What is a string in Python, and how is it different from a list?\n",
        "- A string in Python is a sequence of characters inside quotes.\n",
        "- It can include letters, numbers, symbols, or spaces.\n",
        "- we can use single (' '), double (\" \"), or triple quotes (''' ''' / \"\"\" \"\"\").\n",
        "\n",
        "- A list is a collection of items, like numbers, words, or anything, written inside square brackets [ ].\n",
        "- A list can hold multiple data types.\n",
        "- The items in a list are separated by commas.\n",
        "\n",
        "- Example:\n",
        "- s = \"hello\"\n",
        "- l = ['h', 'e', 'l', 'l', 'o']\n",
        "\n",
        "\n",
        "7.  How do tuples ensure data integrity in Python?\n",
        "- Data integrity means keeping data safe and unchanged.\n",
        "- Tuples help with data integrity because they are immutable — once created, they cannot be changed.\n",
        "- This makes sure that the original data stays correct and protected from accidental changes.\n",
        "\n",
        "\n",
        "8.  What is a hash table, and how does it relate to dictionaries in Python?\n",
        "- A hash table is a data structure that stores data using a hash function for quick lookup with unique keys.\n",
        "- Python dictionaries use hash tables internally, which means when you store or search for a value using a key in a dictionary, Python uses hashing to quickly find the location of that value.\n",
        "\n",
        "\n",
        "9.  Can lists contain different data types in Python?\n",
        "-  Yes, lists in Python can contain different data types.\n",
        "- Python lists are flexible, so we can store:\n",
        "- Numbers, Strings, Booleans, other lists and even dictionaries or tuples.\n",
        "- Example:\n",
        "- my_list = [10, \"hello\", True, 3.14, [1, 2], {\"a\": 1}]\n",
        "print(my_list)\n",
        "\n",
        "\n",
        "10.  Explain why strings are immutable in Python.\n",
        "-  Strings are immutable in Python, which means we cannot change them after they are created.\n",
        "- Strings in Python are immutable to ensure safety, fast performance, and efficient memory use by preventing changes, speeding up operations, and reusing data.\n",
        "\n",
        "11.  What advantages do dictionaries offer over lists for certain tasks?\n",
        "- Dictionaries offer advantages like faster lookups, more meaningful data using keys, and no need to remember indexes.\n",
        "- They are better than lists when we need to label our data clearly, access values quickly, or manage complex structured information.\n",
        "\n",
        "12.  Describe a scenario where using a tuple would be preferable over a list.\n",
        "- A tuple is better than a list when we want to store unchangeable data, like coordinates, dates, or settings.\n",
        "- For example, storing a person's birth date as a tuple ((2000, 5, 12)) keeps it safe from being changed.\n",
        "\n",
        "13.  How do sets handle duplicate values in Python?\n",
        "- Sets do not allow duplicates. If we add the same item more than once, the set will keep it only one time.\n",
        "- This helps when we want to store unique items like names, IDs, or numbers.\n",
        "\n",
        "\n",
        "14.  How does the “in” keyword work differently for lists and dictionaries?\n",
        "- For lists: checks values\n",
        "\n",
        "- For dictionaries: checks keys only\n",
        "- Example:\n",
        "- my_list = [10, 20, 30]\n",
        "- print(20 in my_list)   # True\n",
        "- print(50 in my_list)   # False\n",
        "\n",
        "- my_dict = {'a': 1, 'b': 2}\n",
        "- print('a' in my_dict)    #  True (key check)\n",
        "- print(1 in my_dict)      #  False (1 is a value, not a key)\n",
        "\n",
        "15.  Can you modify the elements of a tuple? Explain why or why not.\n",
        "- No. Tuples are immutable. We cannot change, add, or remove elements.\n",
        "- This helps keep our data safe, makes our program faster, and lets Python use tuples as keys in dictionaries or elements in sets.\n",
        "\n",
        "\n",
        "16.  What is a nested dictionary, and give an example of its use case?\n",
        "- A dictionary inside another dictionary.\n",
        "- Example:\n",
        "- student = {\"name\": \"Aman\", \"marks\": {\"math\": 90, \"science\": 95}}\n",
        "\n",
        "\n",
        "17.  Describe the time complexity of accessing elements in a dictionary.\n",
        "- Accessing elements in a dictionary in Python takes O(1) time on average.\n",
        "- Python dictionaries are built using a hash table, which allows super-fast lookups using the key.\n",
        "\n",
        "18.  In what situations are lists preferred over dictionaries?\n",
        "- When order matters\n",
        "- When we don’t need to label elements\n",
        "- Example: To store a series of numbers: [10, 20, 30]\n",
        "\n",
        "\n",
        "19.  Why are dictionaries considered unordered, and how does that affect data retrieval?\n",
        "- Dictionaries are unordered because they store data based on keys, not positions like lists.\n",
        "- In older Python versions (before 3.7), the order of items was not guaranteed to be the same as when added.\n",
        "\n",
        "- Effect:\n",
        "- We cannot get values by position (like dict[0] won’t work).\n",
        "- We must always use the key to get the value.\n",
        "\n",
        "\n",
        "20.  Explain the difference between a list and a dictionary in terms of data retrieval.\n",
        "- List: Access by index (position)\n",
        "- Dictionary: Access by key (name)\n",
        "- Example:\n",
        "- my_list[0]  # index based\n",
        "- my_dict[\"name\"]  # key based"
      ],
      "metadata": {
        "id": "gz-_l7pAeOzz"
      }
    },
    {
      "cell_type": "markdown",
      "source": [
        "1.  Write a code to create a string with your name and print it"
      ],
      "metadata": {
        "id": "UC0X8JKkkldy"
      }
    },
    {
      "cell_type": "code",
      "source": [
        "name = \"aman kumar manhas\"\n",
        "print(\"my name is\",name)"
      ],
      "metadata": {
        "colab": {
          "base_uri": "https://localhost:8080/"
        },
        "id": "ki5gdn8cig3a",
        "outputId": "a2441833-ae8b-419e-f4e2-254414a7b66e"
      },
      "execution_count": null,
      "outputs": [
        {
          "output_type": "stream",
          "name": "stdout",
          "text": [
            "my name is aman kumar manhas\n"
          ]
        }
      ]
    },
    {
      "cell_type": "markdown",
      "source": [
        "2.  Write a code to find the length of the string \"Hello World\".\n"
      ],
      "metadata": {
        "id": "GekUu1IOk4pQ"
      }
    },
    {
      "cell_type": "code",
      "source": [
        "string = \"Hello World\"\n",
        "print(len(string))"
      ],
      "metadata": {
        "colab": {
          "base_uri": "https://localhost:8080/"
        },
        "id": "qPdELDK7ig0p",
        "outputId": "b4aac584-35c8-432d-80e0-38a0bf06038a"
      },
      "execution_count": null,
      "outputs": [
        {
          "output_type": "stream",
          "name": "stdout",
          "text": [
            "11\n"
          ]
        }
      ]
    },
    {
      "cell_type": "markdown",
      "source": [
        "3.  Write a code to slice the first 3 characters from the string \"Python Programming\".\n"
      ],
      "metadata": {
        "id": "tR_3YObNlEy_"
      }
    },
    {
      "cell_type": "code",
      "source": [
        "str = \"Python Programming\"\n",
        "print(str[:3])"
      ],
      "metadata": {
        "colab": {
          "base_uri": "https://localhost:8080/"
        },
        "id": "aljAYRo2lElW",
        "outputId": "00d0ee09-fce6-474a-ee40-202b7f0cd67c"
      },
      "execution_count": null,
      "outputs": [
        {
          "output_type": "stream",
          "name": "stdout",
          "text": [
            "Pyt\n"
          ]
        }
      ]
    },
    {
      "cell_type": "markdown",
      "source": [
        "4.  Write a code to convert the string \"hello\" to uppercase.\n"
      ],
      "metadata": {
        "id": "DrXA2v9Gley4"
      }
    },
    {
      "cell_type": "code",
      "source": [
        "str1 = \"hello\"\n",
        "print(str1.upper())"
      ],
      "metadata": {
        "colab": {
          "base_uri": "https://localhost:8080/"
        },
        "id": "ZPxXqmtAigxn",
        "outputId": "5a52d805-6881-4f2b-e1ff-8eef102339d9"
      },
      "execution_count": null,
      "outputs": [
        {
          "output_type": "stream",
          "name": "stdout",
          "text": [
            "HELLO\n"
          ]
        }
      ]
    },
    {
      "cell_type": "markdown",
      "source": [
        " 5. Write a code to replace the word \"apple\" with \"orange\" in the string \"I like apple\".\n"
      ],
      "metadata": {
        "id": "JuOOIEbklxAp"
      }
    },
    {
      "cell_type": "code",
      "source": [
        "str2 =  \"I like apple\"\n",
        "print(str2.replace(\"apple\",\"orange\"))"
      ],
      "metadata": {
        "colab": {
          "base_uri": "https://localhost:8080/"
        },
        "id": "wPf-VZS_iguh",
        "outputId": "9fb5b664-fb84-4625-ce84-737bed9d9c23"
      },
      "execution_count": null,
      "outputs": [
        {
          "output_type": "stream",
          "name": "stdout",
          "text": [
            "I like orange\n"
          ]
        }
      ]
    },
    {
      "cell_type": "markdown",
      "source": [
        "6.  Write a code to create a list with numbers 1 to 5 and print it.\n"
      ],
      "metadata": {
        "id": "EovR93JbmOiO"
      }
    },
    {
      "cell_type": "code",
      "source": [
        "list = [1,2,3,4,5]\n",
        "print(list)"
      ],
      "metadata": {
        "colab": {
          "base_uri": "https://localhost:8080/"
        },
        "id": "BenopVgAigqX",
        "outputId": "4a3b776a-8cc6-476f-f01d-6d5c620a4290"
      },
      "execution_count": null,
      "outputs": [
        {
          "output_type": "stream",
          "name": "stdout",
          "text": [
            "[1, 2, 3, 4, 5]\n"
          ]
        }
      ]
    },
    {
      "cell_type": "markdown",
      "source": [
        "7.  Write a code to append the number 10 to the list [1, 2, 3, 4].\n"
      ],
      "metadata": {
        "id": "9cDhoYxsmWjP"
      }
    },
    {
      "cell_type": "code",
      "source": [
        "list.append(10)\n",
        "print(list)"
      ],
      "metadata": {
        "colab": {
          "base_uri": "https://localhost:8080/"
        },
        "id": "xWsPEvYriglM",
        "outputId": "dd5fd5f4-6ffc-4fda-9e9a-d5b979ba176a"
      },
      "execution_count": null,
      "outputs": [
        {
          "output_type": "stream",
          "name": "stdout",
          "text": [
            "[1, 2, 3, 4, 5, 10]\n"
          ]
        }
      ]
    },
    {
      "cell_type": "markdown",
      "source": [
        " 8. Write a code to remove the number 3 from the list [1, 2, 3, 4, 5].\n"
      ],
      "metadata": {
        "id": "1LatwmFbmkfE"
      }
    },
    {
      "cell_type": "code",
      "source": [
        "list.remove(3)\n",
        "print(list)"
      ],
      "metadata": {
        "colab": {
          "base_uri": "https://localhost:8080/"
        },
        "id": "-lFa8qJaigiJ",
        "outputId": "3c301255-6a33-4d60-95ef-4c282eb50e80"
      },
      "execution_count": null,
      "outputs": [
        {
          "output_type": "stream",
          "name": "stdout",
          "text": [
            "[1, 2, 4, 5, 10]\n"
          ]
        }
      ]
    },
    {
      "cell_type": "markdown",
      "source": [
        "9.  Write a code to access the second element in the list ['a', 'b', 'c', 'd'].\n"
      ],
      "metadata": {
        "id": "Po9cjwmcnsJ5"
      }
    },
    {
      "cell_type": "code",
      "source": [
        "list1 = [\"a\",\"b\",\"c\",\"d\"]\n",
        "print(list1[1])"
      ],
      "metadata": {
        "colab": {
          "base_uri": "https://localhost:8080/"
        },
        "id": "qBdbdi1NigfU",
        "outputId": "f6a6b77f-4996-447c-ed6e-fa1919abd25b"
      },
      "execution_count": null,
      "outputs": [
        {
          "output_type": "stream",
          "name": "stdout",
          "text": [
            "b\n"
          ]
        }
      ]
    },
    {
      "cell_type": "markdown",
      "source": [
        "10.  Write a code to reverse the list [10, 20, 30, 40, 50].\n"
      ],
      "metadata": {
        "id": "Ke7LL-8on9xG"
      }
    },
    {
      "cell_type": "code",
      "source": [
        "list2 = [10,20,30,40,50]\n",
        "print(list2[::-1])"
      ],
      "metadata": {
        "colab": {
          "base_uri": "https://localhost:8080/"
        },
        "id": "Eoh1ewsAigcU",
        "outputId": "e7ff0eed-f5ab-448b-98d7-100b060a83ec"
      },
      "execution_count": null,
      "outputs": [
        {
          "output_type": "stream",
          "name": "stdout",
          "text": [
            "[50, 40, 30, 20, 10]\n"
          ]
        }
      ]
    },
    {
      "cell_type": "markdown",
      "source": [
        "11. Write a code to create a tuple with the elements 100, 200, 300 and print it.\n"
      ],
      "metadata": {
        "id": "NaHKJrOetVuW"
      }
    },
    {
      "cell_type": "code",
      "source": [
        "tuple = (100,200,300)\n",
        "print(tuple)"
      ],
      "metadata": {
        "colab": {
          "base_uri": "https://localhost:8080/"
        },
        "id": "ABin2nE0igZE",
        "outputId": "82c1d1fb-d714-4807-86d6-6c28d03b6793"
      },
      "execution_count": null,
      "outputs": [
        {
          "output_type": "stream",
          "name": "stdout",
          "text": [
            "(100, 200, 300)\n"
          ]
        }
      ]
    },
    {
      "cell_type": "markdown",
      "source": [
        " 12. Write a code to access the second-to-last element of the tuple ('red', 'green', 'blue', 'yellow').\n"
      ],
      "metadata": {
        "id": "Uh0qKQmCtuOd"
      }
    },
    {
      "cell_type": "code",
      "source": [
        "tuple1 = (\"red\",\"green\",\"blue\",\"yellow\")\n",
        "print(tuple1[-2])"
      ],
      "metadata": {
        "colab": {
          "base_uri": "https://localhost:8080/"
        },
        "id": "prxgMdNxigV_",
        "outputId": "70c9db4e-0e95-4fce-dd84-e9996dc90474"
      },
      "execution_count": null,
      "outputs": [
        {
          "output_type": "stream",
          "name": "stdout",
          "text": [
            "blue\n"
          ]
        }
      ]
    },
    {
      "cell_type": "markdown",
      "source": [
        " 13. Write a code to find the minimum number in the tuple (10, 20, 5, 15).\n"
      ],
      "metadata": {
        "id": "GSAhCgZvuuDT"
      }
    },
    {
      "cell_type": "code",
      "source": [
        "tuple3 = (10,20,5,15)\n",
        "print(min(tuple3))"
      ],
      "metadata": {
        "colab": {
          "base_uri": "https://localhost:8080/"
        },
        "id": "oZ6_KS4eigTT",
        "outputId": "d1886d18-b587-4391-9046-be73035619cc"
      },
      "execution_count": null,
      "outputs": [
        {
          "output_type": "stream",
          "name": "stdout",
          "text": [
            "5\n"
          ]
        }
      ]
    },
    {
      "cell_type": "markdown",
      "source": [
        " 14. Write a code to find the index of the element \"cat\" in the tuple ('dog', 'cat', 'rabbit').\n"
      ],
      "metadata": {
        "id": "NGn3OBstu_zX"
      }
    },
    {
      "cell_type": "code",
      "source": [
        "tuple4 = (\"dog\",\"cat\",\"rabbit\")\n",
        "print(tuple4.index(\"cat\"))"
      ],
      "metadata": {
        "colab": {
          "base_uri": "https://localhost:8080/"
        },
        "id": "e3gwvpv9igQh",
        "outputId": "af48e183-fccc-4f19-fbe6-d97f141f9656"
      },
      "execution_count": null,
      "outputs": [
        {
          "output_type": "stream",
          "name": "stdout",
          "text": [
            "1\n"
          ]
        }
      ]
    },
    {
      "cell_type": "markdown",
      "source": [
        " 15. Write a code to create a tuple containing three different fruits and check if \"kiwi\" is in it.\n"
      ],
      "metadata": {
        "id": "4u4iEQACvW-E"
      }
    },
    {
      "cell_type": "code",
      "source": [
        "fruits = (\"apple\",\"banana\",\"orange\",\"kiwi\")\n",
        "print(\"kiwi\" in fruits)"
      ],
      "metadata": {
        "colab": {
          "base_uri": "https://localhost:8080/"
        },
        "id": "C6hNb0JgigNJ",
        "outputId": "9d498fab-6db0-49c5-bc00-c5e4d6c976cd"
      },
      "execution_count": null,
      "outputs": [
        {
          "output_type": "stream",
          "name": "stdout",
          "text": [
            "True\n"
          ]
        }
      ]
    },
    {
      "cell_type": "markdown",
      "source": [
        " 16. Write a code to create a set with the elements 'a', 'b', 'c' and print it.\n"
      ],
      "metadata": {
        "id": "IfKmvgvqvtk8"
      }
    },
    {
      "cell_type": "code",
      "source": [
        "set = {\"a\",\"b\",\"c\"}\n",
        "print(set)"
      ],
      "metadata": {
        "colab": {
          "base_uri": "https://localhost:8080/"
        },
        "id": "6__1PnJzigKO",
        "outputId": "10a76f16-6d01-48db-d3cc-816451b06fde"
      },
      "execution_count": null,
      "outputs": [
        {
          "output_type": "stream",
          "name": "stdout",
          "text": [
            "{'a', 'c', 'b'}\n"
          ]
        }
      ]
    },
    {
      "cell_type": "markdown",
      "source": [
        " 17. Write a code to clear all elements from the set {1, 2, 3, 4, 5}.\n"
      ],
      "metadata": {
        "id": "e3_uOsW8vwaY"
      }
    },
    {
      "cell_type": "code",
      "source": [
        "set1 = {1,2,3,4,5}\n",
        "set1.clear()\n",
        "set1"
      ],
      "metadata": {
        "colab": {
          "base_uri": "https://localhost:8080/"
        },
        "id": "yI4ahO40igHC",
        "outputId": "3f0ae7db-a3a2-4728-a115-3936272ce015"
      },
      "execution_count": null,
      "outputs": [
        {
          "output_type": "execute_result",
          "data": {
            "text/plain": [
              "set()"
            ]
          },
          "metadata": {},
          "execution_count": 47
        }
      ]
    },
    {
      "cell_type": "markdown",
      "source": [
        " 18. Write a code to remove the element 4 from the set {1, 2, 3, 4}.\n"
      ],
      "metadata": {
        "id": "x9ZgydGmv0Sw"
      }
    },
    {
      "cell_type": "code",
      "source": [
        "set2 = {1,2,3,4}\n",
        "set2.remove(4)\n",
        "set2"
      ],
      "metadata": {
        "colab": {
          "base_uri": "https://localhost:8080/"
        },
        "id": "aqkRgFk9igET",
        "outputId": "038c7eca-8385-4ad2-a810-c02cce7ffffd"
      },
      "execution_count": null,
      "outputs": [
        {
          "output_type": "execute_result",
          "data": {
            "text/plain": [
              "{1, 2, 3}"
            ]
          },
          "metadata": {},
          "execution_count": 46
        }
      ]
    },
    {
      "cell_type": "markdown",
      "source": [
        " 19. Write a code to find the union of two sets {1, 2, 3} and {3, 4, 5}.\n"
      ],
      "metadata": {
        "id": "TpU2sk_lv3l4"
      }
    },
    {
      "cell_type": "code",
      "source": [
        "set3 = {1,2,3}\n",
        "set4 = {3,4,5}\n",
        "print(set3.union(set4))\n",
        "print(set3 | set4)"
      ],
      "metadata": {
        "colab": {
          "base_uri": "https://localhost:8080/"
        },
        "id": "MWpWZ4ctigBV",
        "outputId": "70a71d6c-5205-4858-ebb2-fdb40c59c23b"
      },
      "execution_count": null,
      "outputs": [
        {
          "output_type": "stream",
          "name": "stdout",
          "text": [
            "{1, 2, 3, 4, 5}\n",
            "{1, 2, 3, 4, 5}\n"
          ]
        }
      ]
    },
    {
      "cell_type": "markdown",
      "source": [
        " 20. Write a code to find the intersection of two sets {1, 2, 3} and {2, 3, 4}.\n"
      ],
      "metadata": {
        "id": "TTi8WO-Ev6VG"
      }
    },
    {
      "cell_type": "code",
      "source": [
        "set5 = {1,2,3}\n",
        "set6 = {2,3,4}\n",
        "print(set5.intersection(set6))\n",
        "print(set5 & set6)"
      ],
      "metadata": {
        "colab": {
          "base_uri": "https://localhost:8080/"
        },
        "id": "n4PnyIRxif-k",
        "outputId": "16f7707c-31da-4474-ea53-b092a7108cde"
      },
      "execution_count": null,
      "outputs": [
        {
          "output_type": "stream",
          "name": "stdout",
          "text": [
            "{2, 3}\n",
            "{2, 3}\n"
          ]
        }
      ]
    },
    {
      "cell_type": "markdown",
      "source": [
        " 21. Write a code to create a dictionary with the keys \"name\", \"age\", and \"city\", and print it.\n"
      ],
      "metadata": {
        "id": "mJOpJRsy7yvq"
      }
    },
    {
      "cell_type": "code",
      "source": [
        "dict = { \"name\" : \"aman kumar manhas\", \"age\" : 24, \"city\" : \"himachal\"}\n",
        "print(dict)"
      ],
      "metadata": {
        "colab": {
          "base_uri": "https://localhost:8080/"
        },
        "id": "6eC044-cif7l",
        "outputId": "ddbbe2ad-33ba-4832-db73-adc942ae0bf2"
      },
      "execution_count": null,
      "outputs": [
        {
          "output_type": "stream",
          "name": "stdout",
          "text": [
            "{'name': 'aman kumar manhas', 'age': 24, 'city': 'himachal'}\n"
          ]
        }
      ]
    },
    {
      "cell_type": "markdown",
      "source": [
        " 22. Write a code to add a new key-value pair \"country\": \"USA\" to the dictionary {'name': 'John', 'age': 25}.\n"
      ],
      "metadata": {
        "id": "5jeduLmP8MS9"
      }
    },
    {
      "cell_type": "code",
      "source": [
        "dict1 = {\"name\" : \"john\", \"age\" : 25}\n",
        "dict1.update({\"country\":\"USA\"})\n",
        "dict1"
      ],
      "metadata": {
        "colab": {
          "base_uri": "https://localhost:8080/"
        },
        "id": "F9dplxV9if3x",
        "outputId": "bda9ba55-ffd8-41b2-deb2-d30a569de60b"
      },
      "execution_count": null,
      "outputs": [
        {
          "output_type": "execute_result",
          "data": {
            "text/plain": [
              "{'name': 'john', 'age': 25, 'country': 'USA'}"
            ]
          },
          "metadata": {},
          "execution_count": 86
        }
      ]
    },
    {
      "cell_type": "markdown",
      "source": [
        " 23. Write a code to access the value associated with the key \"name\" in the dictionary {'name': 'Alice', 'age': 30}.\n"
      ],
      "metadata": {
        "id": "JMJVja1d8NsM"
      }
    },
    {
      "cell_type": "code",
      "source": [
        "d2 = {\"name\":\"Alice\", \"age\": 30}\n",
        "print(d2[\"name\"])\n",
        "print(d2.get(\"name\"))"
      ],
      "metadata": {
        "id": "tpGrnukEifz9",
        "colab": {
          "base_uri": "https://localhost:8080/"
        },
        "outputId": "eb1b1de6-060f-4a83-ec6f-4433e28638c9"
      },
      "execution_count": null,
      "outputs": [
        {
          "output_type": "stream",
          "name": "stdout",
          "text": [
            "Alice\n",
            "Alice\n"
          ]
        }
      ]
    },
    {
      "cell_type": "markdown",
      "source": [
        " 24. Write a code to remove the key \"age\" from the dictionary {'name': 'Bob', 'age': 22, 'city': 'New York'}.\n"
      ],
      "metadata": {
        "id": "lU6L7o1u8QvP"
      }
    },
    {
      "cell_type": "code",
      "source": [
        "d3 = {\"name\":\"Bob\", \"age\":22, \"city\":\"New York\"}\n",
        "d3.pop(\"age\")\n",
        "d3"
      ],
      "metadata": {
        "id": "tiWksXc4ifuW",
        "colab": {
          "base_uri": "https://localhost:8080/"
        },
        "outputId": "82b0d335-e1b9-4138-fcd0-c5aacc03b64f"
      },
      "execution_count": null,
      "outputs": [
        {
          "output_type": "execute_result",
          "data": {
            "text/plain": [
              "{'name': 'Bob', 'city': 'New York'}"
            ]
          },
          "metadata": {},
          "execution_count": 92
        }
      ]
    },
    {
      "cell_type": "markdown",
      "source": [
        " 25. Write a code to check if the key \"city\" exists in the dictionary {'name': 'Alice', 'city': 'Paris'}.\n"
      ],
      "metadata": {
        "id": "acECHEst8VFI"
      }
    },
    {
      "cell_type": "code",
      "source": [
        "d4 = {\"name\":\"Alice\", \"city\":\"Paris\"}\n",
        "print(\"city\" in d4)"
      ],
      "metadata": {
        "id": "gkpKAig8ifrh",
        "colab": {
          "base_uri": "https://localhost:8080/"
        },
        "outputId": "a8652379-77bb-4ca2-916b-026a2b012747"
      },
      "execution_count": null,
      "outputs": [
        {
          "output_type": "stream",
          "name": "stdout",
          "text": [
            "True\n"
          ]
        }
      ]
    },
    {
      "cell_type": "markdown",
      "source": [
        " 26. Write a code to create a list, a tuple, and a dictionary, and print them all.\n"
      ],
      "metadata": {
        "id": "S1Pr-aEG8X46"
      }
    },
    {
      "cell_type": "code",
      "source": [
        "my_list = [10, 20, 30, \"apple\", \"banana\"]\n",
        "my_tuple = (1, 2, \"red\", \"green\")\n",
        "my_dictionary = {\n",
        "    \"name\": \"Aman\",\n",
        "    \"age\": 24,\n",
        "    \"city\": \"Himachal Pradesh\"\n",
        "}\n",
        "print(\"List:\", my_list)\n",
        "print(\"Tuple:\", my_tuple)\n",
        "print(\"Dictionary:\", my_dictionary)"
      ],
      "metadata": {
        "id": "eJ9cxthyifoj",
        "colab": {
          "base_uri": "https://localhost:8080/"
        },
        "outputId": "297bb2d0-49f4-4ada-de5b-3f645aefd12b"
      },
      "execution_count": null,
      "outputs": [
        {
          "output_type": "stream",
          "name": "stdout",
          "text": [
            "List: [10, 20, 30, 'apple', 'banana']\n",
            "Tuple: (1, 2, 'red', 'green')\n",
            "Dictionary: {'name': 'Aman', 'age': 24, 'city': 'Himachal Pradesh'}\n"
          ]
        }
      ]
    },
    {
      "cell_type": "markdown",
      "source": [
        " 27. Write a code to create a list of 5 random numbers between 1 and 100, sort it in ascending order, and print the  result.(replaced)\n"
      ],
      "metadata": {
        "id": "O6sCj3098ayZ"
      }
    },
    {
      "cell_type": "code",
      "source": [
        "import random\n",
        "random_numbers = []\n",
        "for i in range(5):\n",
        "    number = random.randint(1, 100)\n",
        "    random_numbers.append(number)\n",
        "random_numbers.sort()\n",
        "print(\"Sorted random numbers:\", random_numbers)\n"
      ],
      "metadata": {
        "colab": {
          "base_uri": "https://localhost:8080/"
        },
        "id": "MAm3DZtdEGt_",
        "outputId": "e2d78088-a958-4521-921d-11fb100d11aa"
      },
      "execution_count": 3,
      "outputs": [
        {
          "output_type": "stream",
          "name": "stdout",
          "text": [
            "Sorted random numbers: [13, 25, 63, 69, 97]\n"
          ]
        }
      ]
    },
    {
      "cell_type": "markdown",
      "source": [
        "28. Write a code to create a list with strings and print the element at the third index.\n"
      ],
      "metadata": {
        "id": "9UtnuAcn8l8v"
      }
    },
    {
      "cell_type": "code",
      "source": [
        "list3 = [\"apple\",\"banana\",\"orange\",\"mango\",\"cherry\"]\n",
        "print(\"the element at third index is =>\",list3[2])"
      ],
      "metadata": {
        "id": "QIaKZxBHifjK",
        "colab": {
          "base_uri": "https://localhost:8080/"
        },
        "outputId": "aa090735-c08d-4042-f9ea-d8b19740bc08"
      },
      "execution_count": 6,
      "outputs": [
        {
          "output_type": "stream",
          "name": "stdout",
          "text": [
            "the element at third index is => orange\n"
          ]
        }
      ]
    },
    {
      "cell_type": "markdown",
      "source": [
        " 29. Write a code to combine two dictionaries into one and print the result.\n"
      ],
      "metadata": {
        "id": "rjQNCp3w8pJv"
      }
    },
    {
      "cell_type": "code",
      "source": [
        "dict_student = {\"name1\" : \"Aman\", \"name2\" : \"Vishal\", \"age1\" : 23, \"age2\" : 24}\n",
        "dict_marks = {\"maths1\" : 95 ,\"maths2\" : 96, \"science1\" : 99, \"science2\": 98}\n",
        "dict_student.update(dict_marks)\n",
        "dict_student"
      ],
      "metadata": {
        "id": "bxbZpmLHifgQ",
        "colab": {
          "base_uri": "https://localhost:8080/"
        },
        "outputId": "605e1f9a-5036-4350-bf60-e5f522e19e6e"
      },
      "execution_count": 7,
      "outputs": [
        {
          "output_type": "execute_result",
          "data": {
            "text/plain": [
              "{'name1': 'Aman',\n",
              " 'name2': 'Vishal',\n",
              " 'age1': 23,\n",
              " 'age2': 24,\n",
              " 'maths1': 95,\n",
              " 'maths2': 96,\n",
              " 'science1': 99,\n",
              " 'science2': 98}"
            ]
          },
          "metadata": {},
          "execution_count": 7
        }
      ]
    },
    {
      "cell_type": "markdown",
      "source": [
        " 30. Write a code to convert a list of strings into a set.\n"
      ],
      "metadata": {
        "id": "DtIm7q0A8rbu"
      }
    },
    {
      "cell_type": "code",
      "source": [
        "list_of_friends_of_aman = [\"kashish\",\"vishal\",\"ankit\",\"shubham\",\"adivitiya\",\"anchal\"]\n",
        "set_of_friends_of_aman = set(list_of_friends_of_aman)\n",
        "set_of_friends_of_aman"
      ],
      "metadata": {
        "id": "T1VCJIJaifdV",
        "colab": {
          "base_uri": "https://localhost:8080/"
        },
        "outputId": "e6c5d7ed-01dc-4ffd-8ce9-c24ba1001ecf"
      },
      "execution_count": 9,
      "outputs": [
        {
          "output_type": "execute_result",
          "data": {
            "text/plain": [
              "{'adivitiya', 'anchal', 'ankit', 'kashish', 'shubham', 'vishal'}"
            ]
          },
          "metadata": {},
          "execution_count": 9
        }
      ]
    },
    {
      "cell_type": "code",
      "source": [],
      "metadata": {
        "id": "UZpCcn6rifap"
      },
      "execution_count": null,
      "outputs": []
    },
    {
      "cell_type": "code",
      "source": [],
      "metadata": {
        "id": "ZMF5iE2rifYH"
      },
      "execution_count": null,
      "outputs": []
    },
    {
      "cell_type": "code",
      "source": [],
      "metadata": {
        "id": "L_u9lXHRifRw"
      },
      "execution_count": null,
      "outputs": []
    },
    {
      "cell_type": "code",
      "source": [],
      "metadata": {
        "id": "lEpZOjO3ifHj"
      },
      "execution_count": null,
      "outputs": []
    },
    {
      "cell_type": "code",
      "source": [],
      "metadata": {
        "id": "RYIq1iUwie-L"
      },
      "execution_count": null,
      "outputs": []
    },
    {
      "cell_type": "code",
      "source": [],
      "metadata": {
        "id": "5oXnzAXRieyp"
      },
      "execution_count": null,
      "outputs": []
    },
    {
      "cell_type": "code",
      "source": [],
      "metadata": {
        "id": "nOYJrVbHielj"
      },
      "execution_count": null,
      "outputs": []
    },
    {
      "cell_type": "code",
      "metadata": {
        "id": "67c6e952"
      },
      "source": [
        "my_dict = {'name': 'Alice', 'age': 30}\n",
        "print(my_dict['name'])"
      ],
      "execution_count": null,
      "outputs": []
    }
  ]
}